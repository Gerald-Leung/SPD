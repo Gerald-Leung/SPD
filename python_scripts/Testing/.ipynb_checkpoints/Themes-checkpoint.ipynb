{
 "cells": [
  {
   "cell_type": "markdown",
   "id": "18ae2d71",
   "metadata": {},
   "source": [
    "# Jupyter Themes"
   ]
  },
  {
   "cell_type": "code",
   "execution_count": 1,
   "id": "6fb4eb0c",
   "metadata": {},
   "outputs": [
    {
     "name": "stdout",
     "output_type": "stream",
     "text": [
      "Available Themes: \n",
      "   chesterish\n",
      "   grade3\n",
      "   gruvboxd\n",
      "   gruvboxl\n",
      "   monokai\n",
      "   oceans16\n",
      "   onedork\n",
      "   solarizedd\n",
      "   solarizedl\n"
     ]
    }
   ],
   "source": [
    "!jt -l"
   ]
  },
  {
   "cell_type": "code",
   "execution_count": 1,
   "id": "7fdfbd03",
   "metadata": {},
   "outputs": [],
   "source": [
    "#!jt -t chesterish -T -N -kl"
   ]
  },
  {
   "cell_type": "code",
   "execution_count": 1,
   "id": "84d0f512",
   "metadata": {},
   "outputs": [
    {
     "name": "stdout",
     "output_type": "stream",
     "text": [
      "Reset css and font defaults in:\n",
      "C:\\Users\\yeehil01\\.jupyter\\custom &\n",
      "C:\\Users\\yeehil01\\AppData\\Roaming\\jupyter\\nbextensions\n"
     ]
    }
   ],
   "source": [
    "!jt -r"
   ]
  },
  {
   "cell_type": "code",
   "execution_count": null,
   "id": "799a09da",
   "metadata": {},
   "outputs": [],
   "source": []
  }
 ],
 "metadata": {
  "kernelspec": {
   "display_name": "Python 3 (ipykernel)",
   "language": "python",
   "name": "python3"
  },
  "language_info": {
   "codemirror_mode": {
    "name": "ipython",
    "version": 3
   },
   "file_extension": ".py",
   "mimetype": "text/x-python",
   "name": "python",
   "nbconvert_exporter": "python",
   "pygments_lexer": "ipython3",
   "version": "3.10.2"
  }
 },
 "nbformat": 4,
 "nbformat_minor": 5
}
